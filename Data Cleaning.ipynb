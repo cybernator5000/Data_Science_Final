{
 "cells": [
  {
   "cell_type": "code",
   "execution_count": 1,
   "id": "5a3a3087",
   "metadata": {},
   "outputs": [],
   "source": [
    "from numpy import random\n",
    "import numpy \n",
    "import re\n",
    "import os\n",
    "import requests\n",
    "from bs4 import BeautifulSoup\n",
    "from bs4.element import Comment\n",
    "import urllib.request\n",
    "import shutil\n",
    "from time import sleep\n",
    "import pandas as pd\n",
    "from matplotlib.ticker import FormatStrFormatter\n",
    "from matplotlib import pyplot as plt\n",
    "from matplotlib.pyplot import figure\n",
    "from random import randint, randrange\n",
    "from sklearn import tree\n",
    "from sklearn.ensemble import RandomForestClassifier\n",
    "from sklearn.neighbors import KNeighborsClassifier\n",
    "from sklearn import linear_model, metrics, preprocessing\n",
    "from sklearn.preprocessing import StandardScaler, MinMaxScaler\n",
    "from sklearn.linear_model import LogisticRegression, LinearRegression\n",
    "from sklearn.model_selection import train_test_split\n",
    "from sklearn.metrics import r2_score, f1_score\n",
    "mainDB=pd.read_csv(\"base_data.csv\")\n",
    "secondaryDB=pd.read_csv(\"Just_Songs.csv\")\n",
    "\n"
   ]
  },
  {
   "cell_type": "code",
   "execution_count": 2,
   "id": "c74ebe6c",
   "metadata": {},
   "outputs": [
    {
     "name": "stdout",
     "output_type": "stream",
     "text": [
      "number of unique artists:4157\n",
      "number of unique songs:7607\n"
     ]
    }
   ],
   "source": [
    "print(\"number of unique artists:\"+str(len(mainDB[\"Artist_Name\"].unique())))\n",
    "print(\"number of unique songs:\"+str(len(mainDB[\"Song_Name\"].unique())))\n"
   ]
  },
  {
   "cell_type": "code",
   "execution_count": 3,
   "id": "2f552b36",
   "metadata": {},
   "outputs": [
    {
     "name": "stderr",
     "output_type": "stream",
     "text": [
      "<ipython-input-3-919cc24353df>:20: SettingWithCopyWarning: \n",
      "A value is trying to be set on a copy of a slice from a DataFrame\n",
      "\n",
      "See the caveats in the documentation: https://pandas.pydata.org/pandas-docs/stable/user_guide/indexing.html#returning-a-view-versus-a-copy\n",
      "  mainDB[\"Song_Name\"][index]=mystr\n",
      "<ipython-input-3-919cc24353df>:22: SettingWithCopyWarning: \n",
      "A value is trying to be set on a copy of a slice from a DataFrame\n",
      "\n",
      "See the caveats in the documentation: https://pandas.pydata.org/pandas-docs/stable/user_guide/indexing.html#returning-a-view-versus-a-copy\n",
      "  mainDB[\"Artist_Name\"][index]=myartist\n"
     ]
    }
   ],
   "source": [
    "#data cleaning\n",
    "for index,rows in mainDB.iterrows():\n",
    "    mystr=rows[\"Song_Name\"]\n",
    "    myartist=rows[\"Artist_Name\"]\n",
    "    i=0\n",
    "    j=0\n",
    "    while mystr[0]==\" \":\n",
    "        i=1\n",
    "        mystr=mystr[1:]\n",
    "    while mystr[-1]==\"\\n\":\n",
    "        i=1\n",
    "        mystr=mystr[:-1]\n",
    "    while myartist[0]==\" \":\n",
    "        j=1\n",
    "        myartist=myartist[1:]\n",
    "    while myartist[-1]==\"\\n\":\n",
    "        j=1\n",
    "        myartist=myaritst[:-1]\n",
    "    if i==1:\n",
    "        mainDB[\"Song_Name\"][index]=mystr\n",
    "    if j==1:\n",
    "        mainDB[\"Artist_Name\"][index]=myartist\n",
    "\n"
   ]
  },
  {
   "cell_type": "code",
   "execution_count": 4,
   "id": "d334fc5d",
   "metadata": {},
   "outputs": [
    {
     "name": "stdout",
     "output_type": "stream",
     "text": [
      "number of unique artists:4137\n",
      "number of unique songs:7492\n"
     ]
    }
   ],
   "source": [
    "print(\"number of unique artists:\"+str(len(mainDB[\"Artist_Name\"].unique())))\n",
    "print(\"number of unique songs:\"+str(len(mainDB[\"Song_Name\"].unique())))\n"
   ]
  }
 ],
 "metadata": {
  "kernelspec": {
   "display_name": "Python 3",
   "language": "python",
   "name": "python3"
  },
  "language_info": {
   "codemirror_mode": {
    "name": "ipython",
    "version": 3
   },
   "file_extension": ".py",
   "mimetype": "text/x-python",
   "name": "python",
   "nbconvert_exporter": "python",
   "pygments_lexer": "ipython3",
   "version": "3.8.8"
  }
 },
 "nbformat": 4,
 "nbformat_minor": 5
}
